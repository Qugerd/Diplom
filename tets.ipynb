{
 "cells": [
  {
   "cell_type": "code",
   "execution_count": 19,
   "metadata": {},
   "outputs": [
    {
     "name": "stdout",
     "output_type": "stream",
     "text": [
      "SELECT name FROM views\n",
      "[('Капибара',), ('dwd',), ('Капибара21123',), ('vjfkwd',), ('dbl',)]\n"
     ]
    }
   ],
   "source": [
    "import sqlite3\n",
    "\n",
    "def f(name):\n",
    "    conn = sqlite3.connect('database.db')\n",
    "    query = f\"SELECT {name} FROM views\"\n",
    "    print(query)\n",
    "    cursor = conn.execute(query)\n",
    "    \n",
    "    print(cursor.fetchall())\n",
    "\n",
    "f(\"name\")"
   ]
  },
  {
   "cell_type": "code",
   "execution_count": 15,
   "metadata": {},
   "outputs": [
    {
     "name": "stdout",
     "output_type": "stream",
     "text": [
      "(3, 'vjfkwd')\n"
     ]
    }
   ],
   "source": [
    "conn = sqlite3.connect('database.db')\n",
    "cursor = conn.execute(\"SELECT id, name FROM views WHERE ID=(SELECT MAX(ID) FROM views)\")\n",
    "\n",
    "print(cursor.fetchall())"
   ]
  },
  {
   "cell_type": "code",
   "execution_count": 4,
   "metadata": {},
   "outputs": [],
   "source": [
    "import sqlite3"
   ]
  },
  {
   "cell_type": "code",
   "execution_count": 39,
   "metadata": {},
   "outputs": [
    {
     "name": "stdout",
     "output_type": "stream",
     "text": [
      "[('Капибара', 0), ('dwd', 1), ('Капибара21123', 2), ('vjfkwd', 3), ('dbl', 4)]\n"
     ]
    },
    {
     "data": {
      "text/plain": [
       "[]"
      ]
     },
     "execution_count": 39,
     "metadata": {},
     "output_type": "execute_result"
    }
   ],
   "source": [
    "def ParseDB():\n",
    "    conn = sqlite3.connect('database.db')\n",
    "    cursor = conn.execute(\"SELECT name, id FROM views\")\n",
    "    kek = []\n",
    "    print(cursor.fetchall())\n",
    "    for row in cursor:\n",
    "        # print(row)\n",
    "        image_name, image_blob = row\n",
    "        \n",
    "    conn.close()\n",
    "\n",
    "    return kek\n",
    "ParseDB()"
   ]
  },
  {
   "cell_type": "code",
   "execution_count": 52,
   "metadata": {},
   "outputs": [
    {
     "name": "stdout",
     "output_type": "stream",
     "text": [
      "(4,)\n",
      "4\n"
     ]
    }
   ],
   "source": [
    "def ParseDB():\n",
    "    conn = sqlite3.connect('database.db')\n",
    "    cursor = conn.execute(\"SELECT id FROM views ORDER BY id DESC LIMIT 1\")\n",
    "    row = cursor.fetchone()\n",
    "    print(row)\n",
    "    value = row[0]\n",
    "    print(value)\n",
    "ParseDB()"
   ]
  },
  {
   "cell_type": "code",
   "execution_count": 56,
   "metadata": {},
   "outputs": [
    {
     "data": {
      "text/plain": [
       "1"
      ]
     },
     "execution_count": 56,
     "metadata": {},
     "output_type": "execute_result"
    }
   ],
   "source": [
    "def f(a):\n",
    "    if a != 0:\n",
    "        return 0\n",
    "    return 1\n",
    "\n",
    "f(0)"
   ]
  },
  {
   "cell_type": "code",
   "execution_count": 58,
   "metadata": {},
   "outputs": [
    {
     "ename": "OperationalError",
     "evalue": "database is locked",
     "output_type": "error",
     "traceback": [
      "\u001b[1;31m---------------------------------------------------------------------------\u001b[0m",
      "\u001b[1;31mOperationalError\u001b[0m                          Traceback (most recent call last)",
      "Cell \u001b[1;32mIn[58], line 9\u001b[0m\n\u001b[0;32m      6\u001b[0m     \u001b[39mprint\u001b[39m(\u001b[39m\"\u001b[39m\u001b[39mДобавленно\u001b[39m\u001b[39m\"\u001b[39m)\n\u001b[0;32m      7\u001b[0m     conn\u001b[39m.\u001b[39mclose()\n\u001b[1;32m----> 9\u001b[0m AddInDB()\n",
      "Cell \u001b[1;32mIn[58], line 5\u001b[0m, in \u001b[0;36mAddInDB\u001b[1;34m(name, imgPath)\u001b[0m\n\u001b[0;32m      2\u001b[0m conn \u001b[39m=\u001b[39m sqlite3\u001b[39m.\u001b[39mconnect(\u001b[39m'\u001b[39m\u001b[39mdatabase.db\u001b[39m\u001b[39m'\u001b[39m)\n\u001b[0;32m      3\u001b[0m conn\u001b[39m.\u001b[39mexecute(\u001b[39m\"\u001b[39m\u001b[39mINSERT INTO views (name, img) VALUES (?, ?)\u001b[39m\u001b[39m\"\u001b[39m,\n\u001b[0;32m      4\u001b[0m          (name, imgPath))\n\u001b[1;32m----> 5\u001b[0m conn\u001b[39m.\u001b[39;49mcommit()\n\u001b[0;32m      6\u001b[0m \u001b[39mprint\u001b[39m(\u001b[39m\"\u001b[39m\u001b[39mДобавленно\u001b[39m\u001b[39m\"\u001b[39m)\n\u001b[0;32m      7\u001b[0m conn\u001b[39m.\u001b[39mclose()\n",
      "\u001b[1;31mOperationalError\u001b[0m: database is locked"
     ]
    }
   ],
   "source": [
    "def AddInDB(name = \"Капибара\", imgPath = \"http://placehold.it/150x150\"):\n",
    "    conn = sqlite3.connect('database.db')\n",
    "    conn.execute(\"INSERT INTO views (name, img) VALUES (?, ?)\",\n",
    "             (name, imgPath))\n",
    "    conn.commit()\n",
    "    print(\"Добавленно\")\n",
    "    conn.close()\n",
    "    \n",
    "AddInDB()"
   ]
  }
 ],
 "metadata": {
  "kernelspec": {
   "display_name": "Python 3",
   "language": "python",
   "name": "python3"
  },
  "language_info": {
   "codemirror_mode": {
    "name": "ipython",
    "version": 3
   },
   "file_extension": ".py",
   "mimetype": "text/x-python",
   "name": "python",
   "nbconvert_exporter": "python",
   "pygments_lexer": "ipython3",
   "version": "3.10.9"
  },
  "orig_nbformat": 4
 },
 "nbformat": 4,
 "nbformat_minor": 2
}
