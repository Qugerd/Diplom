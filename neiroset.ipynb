{
 "cells": [
  {
   "cell_type": "code",
   "execution_count": 13,
   "metadata": {},
   "outputs": [
    {
     "name": "stdout",
     "output_type": "stream",
     "text": [
      "('Cardinal', 0.8680009841918945)\n"
     ]
    }
   ],
   "source": [
    "import torch\n",
    "import torch.nn as nn\n",
    "import torch.nn.functional as F\n",
    "from torchvision import models, transforms\n",
    "from PIL import Image\n",
    "import os\n",
    "\n",
    "\n",
    "device = torch.device('cuda' if torch.cuda.is_available() else 'cpu')\n",
    "\n",
    "def load_model(model_path, num_classes, device=device):\n",
    "    model = models.efficientnet_b3(pretrained=False)\n",
    "    model.classifier[1] = nn.Linear(model.classifier[1].in_features, num_classes)\n",
    "    model = model.to(device)\n",
    "\n",
    "    model.load_state_dict(torch.load(model_path, map_location=device))\n",
    "    model.eval()\n",
    "    \n",
    "    return model\n",
    "\n",
    "def create_predict_transform():\n",
    "    return transforms.Compose([\n",
    "        transforms.Resize((224, 224)),\n",
    "        transforms.ToTensor(),\n",
    "        transforms.Normalize([0.485, 0.456, 0.406], [0.229, 0.224, 0.225])\n",
    "    ])\n",
    "\n",
    "def predict_image(model, image_path, transform, class_names, device=device):\n",
    "    try:\n",
    "        image = Image.open(image_path).convert('RGB')\n",
    "        image = transform(image).unsqueeze(0).to(device)\n",
    "        \n",
    "        with torch.no_grad():\n",
    "            outputs = model(image)\n",
    "            probs = F.softmax(outputs, dim=1)\n",
    "            max_prob, preds = torch.max(probs, 1)\n",
    "        \n",
    "        return class_names[preds.item()], max_prob.item()\n",
    "    \n",
    "    except Exception as e:\n",
    "        print(f\"Ошибка при обработке изображения: {e}\")\n",
    "        return None\n",
    "\n",
    "train_dir = 'Birds_test_200/Train'\n",
    "\n",
    "MODEL_PATH = 'best_model.pth'\n",
    "CLASS_NAMES = [name for name in os.listdir(train_dir) if os.path.isdir(os.path.join(train_dir, name))]\n",
    "NUM_CLASSES = len(CLASS_NAMES)\n",
    "# with open(\"class_name.txt\", \"w\", encoding=\"utf-8\") as f:\n",
    "#     f.write(\"\\n\".join(CLASS_NAMES))\n",
    "\n",
    "# TEST_IMAGE = \"C:\\\\Users\\\\asus\\\\Downloads\\\\Bay-breasted_Warbler_-_21182699918.jpg\"\n",
    "TEST_IMAGE = \"C:\\\\Users\\\\asus\\\\Downloads\\\\Screenshot_5.jpg\"\n",
    "\n",
    "\n",
    "\n",
    "model = load_model(MODEL_PATH, NUM_CLASSES, device)\n",
    "\n",
    "predict_transform = create_predict_transform()\n",
    "\n",
    "# print(\"Предсказание класса...\")\n",
    "result = predict_image(\n",
    "    model=model,\n",
    "    image_path=TEST_IMAGE,\n",
    "    transform=predict_transform,\n",
    "    class_names=CLASS_NAMES,\n",
    "    device=device\n",
    "    )\n",
    "\n",
    "print(result)"
   ]
  },
  {
   "cell_type": "markdown",
   "metadata": {},
   "source": [
    "Создание конфига"
   ]
  },
  {
   "cell_type": "code",
   "execution_count": 14,
   "metadata": {},
   "outputs": [],
   "source": [
    "import json\n",
    "\n",
    "config = {\n",
    "    \"database\": {\n",
    "        \"path\": \"database.db\"\n",
    "    }\n",
    "}"
   ]
  },
  {
   "cell_type": "code",
   "execution_count": 15,
   "metadata": {},
   "outputs": [
    {
     "name": "stdout",
     "output_type": "stream",
     "text": [
      "database.db\n"
     ]
    }
   ],
   "source": [
    "with open(\"web/config.json\", \"w\") as config_file:\n",
    "    json.dump(config, config_file, indent=4)\n",
    "\n",
    "with open(\"web/config.json\", \"r\") as config_file:\n",
    "    config = json.load(config_file)\n",
    "\n",
    "    db_path = config[\"database\"][\"path\"]\n",
    "print(db_path)\n",
    "\n",
    "def change_database_path(new_path):\n",
    "    with open(\"web/config.json\", \"r\") as config_file:\n",
    "        config = json.load(config_file)\n",
    "\n",
    "    config[\"database\"][\"path\"] = new_path\n",
    "\n",
    "    with open(\"web/config.json\", \"w\") as config_file:\n",
    "        json.dump(config, config_file, indent=4)\n"
   ]
  },
  {
   "cell_type": "code",
   "execution_count": 16,
   "metadata": {},
   "outputs": [],
   "source": [
    "import os\n",
    "import sqlite3\n",
    "\n",
    "def CreateNewDatabase():\n",
    "    db_path = \"database.db\"\n",
    "    index = 1\n",
    "    while os.path.exists(db_path):\n",
    "        db_path = f\"database_{index}.db\"\n",
    "        index += 1\n",
    "    conn = sqlite3.connect(db_path)\n",
    "    conn.close()\n",
    "\n",
    "CreateNewDatabase()"
   ]
  },
  {
   "cell_type": "code",
   "execution_count": null,
   "metadata": {},
   "outputs": [],
   "source": []
  },
  {
   "cell_type": "code",
   "execution_count": null,
   "metadata": {},
   "outputs": [],
   "source": []
  },
  {
   "cell_type": "code",
   "execution_count": null,
   "metadata": {},
   "outputs": [],
   "source": []
  }
 ],
 "metadata": {
  "kernelspec": {
   "display_name": "Python 3",
   "language": "python",
   "name": "python3"
  },
  "language_info": {
   "codemirror_mode": {
    "name": "ipython",
    "version": 3
   },
   "file_extension": ".py",
   "mimetype": "text/x-python",
   "name": "python",
   "nbconvert_exporter": "python",
   "pygments_lexer": "ipython3",
   "version": "3.13.0"
  }
 },
 "nbformat": 4,
 "nbformat_minor": 2
}
